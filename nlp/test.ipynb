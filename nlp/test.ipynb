{
 "cells": [
  {
   "cell_type": "code",
   "execution_count": 3,
   "id": "61db2fa4-5d26-4778-9990-b7cd273b7d85",
   "metadata": {
    "tags": []
   },
   "outputs": [],
   "source": [
    "from transformers import pipeline\n",
    "import pandas as pd\n",
    "import re\n",
    "\n",
    "arr = [\"zero\", \"one\", \"two\", \"three\", \"four\", \"five\", \"six\", \"seven\", \"eight\", \"nine\"]\n",
    "\n",
    "\n",
    "def fun(s):\n",
    "    s = s.lower().split()\n",
    "    ans = \"\"\n",
    "    for i in range(len(s)):\n",
    "        for j in range(10):\n",
    "            if(s[i].count(arr[j])>0):\n",
    "                ans += str(j)\n",
    "                break\n",
    "        if(len(ans)==3):\n",
    "            break\n",
    "    return ans\n",
    "\n",
    "\n",
    "file_path = './nlp.jsonl'\n",
    "data = pd.read_json(path_or_buf=file_path, lines=True,dtype={'key':'str', 'transcript':'str', 'tool':'str', 'heading':'str', 'targtet':'str'})\n",
    "\n",
    "tool_answerer = pipeline(\"question-answering\", model=\"toolmodel\")\n",
    "target_answerer = pipeline(\"question-answering\", model=\"targetmodel\")\n",
    "heading_answerer = pipeline(\"question-answering\", model=\"headingmodel\")\n",
    "\n",
    "for i in range((len(data))):\n",
    "    \n",
    "    context = data[i:i+1][\"transcript\"].item()\n",
    "    \n",
    "    question = \"What is the tool to use to destroy target\"\n",
    "    tool = tool_answerer(question=question, context=context)[\"answer\"]\n",
    "    if(tool != \"EMP\"):\n",
    "        tool = tool.lower()\n",
    "    if(tool == \"machine guns\"):\n",
    "        tool = \"machine gun\"\n",
    "        \n",
    "    \n",
    "    question = \"what is the target to destroy\"\n",
    "    target = target_answerer(question=question, context=context)[\"answer\"].lower()\n",
    "    if(target[-1] == 's'):\n",
    "        target = target[0:-1]\n",
    "        \n",
    "    \n",
    "    \n",
    "    question = \"What is the heading\"\n",
    "    heading = heading_answerer(question=question, context=context)[\"answer\"]\n",
    "    heading = fun(heading)\n",
    "    \n",
    "    answer = {\"tool\":tool, \"target\":target, \"heading\":heading}\n",
    "    actual_answer = {\"tool\":data[i:i+1][\"tool\"].item(), \"target\":data[i:i+1][\"target\"].item(), \"heading\":data[i:i+1][\"heading\"].item()}\n",
    "    \n",
    "    if(answer != actual_answer):\n",
    "        print(i, answer, actual_answer, context)\n",
    "    \n",
    "    "
   ]
  },
  {
   "cell_type": "code",
   "execution_count": null,
   "id": "437bd055-8154-43a0-acf9-83d0a5cfc2f9",
   "metadata": {},
   "outputs": [],
   "source": []
  }
 ],
 "metadata": {
  "environment": {
   "kernel": "conda-base-py",
   "name": "workbench-notebooks.m120",
   "type": "gcloud",
   "uri": "us-docker.pkg.dev/deeplearning-platform-release/gcr.io/workbench-notebooks:m120"
  },
  "kernelspec": {
   "display_name": "Python 3 (ipykernel)",
   "language": "python",
   "name": "conda-base-py"
  },
  "language_info": {
   "codemirror_mode": {
    "name": "ipython",
    "version": 3
   },
   "file_extension": ".py",
   "mimetype": "text/x-python",
   "name": "python",
   "nbconvert_exporter": "python",
   "pygments_lexer": "ipython3",
   "version": "3.10.14"
  }
 },
 "nbformat": 4,
 "nbformat_minor": 5
}
